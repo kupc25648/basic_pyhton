{
 "cells": [
  {
   "cell_type": "code",
   "execution_count": null,
   "metadata": {},
   "outputs": [],
   "source": [
    "# string int float ============================="
   ]
  },
  {
   "cell_type": "code",
   "execution_count": 8,
   "metadata": {},
   "outputs": [
    {
     "name": "stdout",
     "output_type": "stream",
     "text": [
      "こんにちは。\n",
      "<class 'str'>\n",
      "ち\n"
     ]
    }
   ],
   "source": [
    "# string\n",
    "string_A = 'こんにちは。'\n",
    "\n",
    "print(string_A)\n",
    "print(\n",
    "    \n",
    "    type(string_A)\n",
    "\n",
    ")\n",
    "\n",
    "print(   string_A[-3]   )"
   ]
  },
  {
   "cell_type": "code",
   "execution_count": 11,
   "metadata": {},
   "outputs": [
    {
     "name": "stdout",
     "output_type": "stream",
     "text": [
      "5\n",
      "<class 'int'>\n"
     ]
    }
   ],
   "source": [
    "# int 1\n",
    "int_A = 5\n",
    "print(int_A)\n",
    "print(type(int_A))\n"
   ]
  },
  {
   "cell_type": "code",
   "execution_count": 13,
   "metadata": {},
   "outputs": [
    {
     "name": "stdout",
     "output_type": "stream",
     "text": [
      "5\n",
      "<class 'int'>\n"
     ]
    }
   ],
   "source": [
    "# int 2\n",
    "int_B = int(5.9)\n",
    "print(int_B)\n",
    "print(type(int_B))\n"
   ]
  },
  {
   "cell_type": "code",
   "execution_count": 33,
   "metadata": {},
   "outputs": [
    {
     "name": "stdout",
     "output_type": "stream",
     "text": [
      "5\n",
      "<class 'int'>\n",
      "3\n",
      "<class 'int'>\n",
      "1.6666666666666667\n",
      "<class 'float'>\n"
     ]
    }
   ],
   "source": [
    "# int 3\n",
    "x = 5\n",
    "y = 3\n",
    "z = x/y \n",
    "#int_C = round(x,3)\n",
    "print(x)\n",
    "print(type(x))\n",
    "print(y)\n",
    "print(type(y))\n",
    "print(z)\n",
    "print(type(z))"
   ]
  },
  {
   "cell_type": "code",
   "execution_count": 21,
   "metadata": {},
   "outputs": [
    {
     "name": "stdout",
     "output_type": "stream",
     "text": [
      "5.9\n",
      "<class 'float'>\n"
     ]
    }
   ],
   "source": [
    "# float 1\n",
    "float_A = 5.9\n",
    "print(float_A)\n",
    "print(type(float_A))"
   ]
  },
  {
   "cell_type": "code",
   "execution_count": null,
   "metadata": {},
   "outputs": [],
   "source": [
    "# list =========================================="
   ]
  },
  {
   "cell_type": "code",
   "execution_count": 41,
   "metadata": {},
   "outputs": [
    {
     "name": "stdout",
     "output_type": "stream",
     "text": [
      "1\n",
      "お\n",
      "う\n"
     ]
    }
   ],
   "source": [
    "# list\n",
    "list_A = [1,2,3,4,5,6,7]\n",
    "list_B = ['あ','い','う','え','お']\n",
    "list_C = [1,'あいう',3,'えお',5,6]\n",
    "\n",
    "print(list_A[0])\n",
    "print(list_B[-1])\n",
    "print(list_C[1][2])"
   ]
  },
  {
   "cell_type": "code",
   "execution_count": 44,
   "metadata": {},
   "outputs": [
    {
     "name": "stdout",
     "output_type": "stream",
     "text": [
      "3\n"
     ]
    }
   ],
   "source": [
    "# list len\n",
    "\n",
    "list_A = [1,2,3,4,5,6,7]\n",
    "list_B = ['あ','い','う','え','お']\n",
    "list_C = [1,'あいう',3,'えお',5,6]\n",
    "\n",
    "\n",
    "len_list_A = len(list_B)\n",
    "\n",
    "len_list_B = len(['あ','い','う','え','お'])\n",
    "\n",
    "len_list_C = len(list_C)\n",
    "\n",
    "\n",
    "len_list_C_index_1 = len(list_C[1])\n",
    "print(len_list_C_index_1)"
   ]
  },
  {
   "cell_type": "code",
   "execution_count": 46,
   "metadata": {},
   "outputs": [
    {
     "name": "stdout",
     "output_type": "stream",
     "text": [
      "[1, 2, 3, 4, 5, 6, 7]\n",
      "[1, 2, 3, 4, 5, 6, 7, 8]\n"
     ]
    }
   ],
   "source": [
    "# list append\n",
    "list_A = [1,2,3,4,5,6,7]\n",
    "\n",
    "print(list_A)\n",
    "\n",
    "list_A.append(8)\n",
    "\n",
    "print(list_A)\n",
    "\n"
   ]
  },
  {
   "cell_type": "code",
   "execution_count": 48,
   "metadata": {},
   "outputs": [
    {
     "name": "stdout",
     "output_type": "stream",
     "text": [
      "1006\n"
     ]
    }
   ],
   "source": [
    "# max\n",
    "list_A = [1,2,3,4,5,1006,7]\n",
    "print(  max(list_A)  )"
   ]
  },
  {
   "cell_type": "code",
   "execution_count": 51,
   "metadata": {},
   "outputs": [
    {
     "name": "stdout",
     "output_type": "stream",
     "text": [
      "あ\n"
     ]
    }
   ],
   "source": [
    "# min\n",
    "list_B = ['い','あ','う','え','お']\n",
    "print( min(list_B) )"
   ]
  },
  {
   "cell_type": "code",
   "execution_count": 65,
   "metadata": {},
   "outputs": [
    {
     "name": "stdout",
     "output_type": "stream",
     "text": [
      "5\n",
      "7\n"
     ]
    }
   ],
   "source": [
    "# index\n",
    "list_B = ['あ','い','う','え','お','い']\n",
    "\n",
    "\n",
    "\n",
    "#print(   list_B.index('い')  )\n",
    "\n",
    "\n",
    "\n",
    "list_A = [1,2,3,4,5,1006,7,1006]\n",
    "\n",
    "#print(    list_A.index(max(list_A)))\n",
    "\n",
    "maxA  = max(list_A)\n",
    "for i in range(len(list_A)):\n",
    "    if list_A[i] == maxA:\n",
    "        print(i)"
   ]
  },
  {
   "cell_type": "code",
   "execution_count": 67,
   "metadata": {},
   "outputs": [
    {
     "name": "stdout",
     "output_type": "stream",
     "text": [
      "['あ', 'い', 'う', 'え', 'お']\n",
      "['あ', 'い', 'う', 'え']\n"
     ]
    }
   ],
   "source": [
    "# pop\n",
    "list_B = ['あ','い','う','え','お']\n",
    "print(list_B)\n",
    "list_B.pop()\n",
    "print(list_B)"
   ]
  },
  {
   "cell_type": "code",
   "execution_count": 71,
   "metadata": {},
   "outputs": [
    {
     "name": "stdout",
     "output_type": "stream",
     "text": [
      "['あ', 'い', 'う', 'え', 'お', 'い']\n",
      "['あ', 'う', 'え', 'お', 'い']\n"
     ]
    }
   ],
   "source": [
    "# remove\n",
    "list_B = ['あ','い','う','え','お','い']\n",
    "print(list_B)\n",
    "list_B.remove('い')\n",
    "print(list_B)"
   ]
  },
  {
   "cell_type": "code",
   "execution_count": null,
   "metadata": {},
   "outputs": [],
   "source": [
    "# if  =========================================="
   ]
  },
  {
   "cell_type": "code",
   "execution_count": 36,
   "metadata": {},
   "outputs": [
    {
     "name": "stdout",
     "output_type": "stream",
     "text": [
      "True\n"
     ]
    }
   ],
   "source": [
    "# if\n",
    "if 5>3:\n",
    "    print('True')\n",
    "    "
   ]
  },
  {
   "cell_type": "code",
   "execution_count": 73,
   "metadata": {},
   "outputs": [
    {
     "name": "stdout",
     "output_type": "stream",
     "text": [
      "x > y\n"
     ]
    }
   ],
   "source": [
    "# if else\n",
    "x = 110\n",
    "y = 30\n",
    "if x>y:\n",
    "    print('x > y')\n",
    "else:\n",
    "    print('x < y')"
   ]
  },
  {
   "cell_type": "code",
   "execution_count": 76,
   "metadata": {},
   "outputs": [
    {
     "name": "stdout",
     "output_type": "stream",
     "text": [
      "B\n"
     ]
    }
   ],
   "source": [
    "# if elif else\n",
    "x = 4\n",
    "if x>5:\n",
    "    print('A')\n",
    "    \n",
    "elif x>3:\n",
    "    print('B')\n",
    "    \n",
    "else:\n",
    "    print('C')"
   ]
  },
  {
   "cell_type": "code",
   "execution_count": 78,
   "metadata": {},
   "outputs": [
    {
     "name": "stdout",
     "output_type": "stream",
     "text": [
      "1\n"
     ]
    }
   ],
   "source": [
    "# if と　list\n",
    "list_if = [1,0,0,1,0]\n",
    "\n",
    "if list_if[0] == 0:\n",
    "    print('Zero')\n",
    "else:\n",
    "    print(list_if[0])"
   ]
  },
  {
   "cell_type": "code",
   "execution_count": null,
   "metadata": {},
   "outputs": [],
   "source": [
    "# for  =========================================="
   ]
  },
  {
   "cell_type": "code",
   "execution_count": 90,
   "metadata": {},
   "outputs": [
    {
     "name": "stdout",
     "output_type": "stream",
     "text": [
      "Print 10  \n",
      "Print 9  \n",
      "Print 8  \n",
      "Print 7  \n",
      "Print 6  \n",
      "Print 5  \n",
      "Print 4  \n",
      "Print 3  \n",
      "Print 2  \n",
      "Print 1  \n"
     ]
    }
   ],
   "source": [
    "# for print\n",
    "for i in range(10,0,-1):\n",
    "    \n",
    "\n",
    "    print('Print {}  '.format(i))"
   ]
  },
  {
   "cell_type": "code",
   "execution_count": 92,
   "metadata": {},
   "outputs": [
    {
     "name": "stdout",
     "output_type": "stream",
     "text": [
      "[]\n",
      "[0]\n",
      "[0, 1]\n",
      "[0, 1, 2]\n",
      "[0, 1, 2, 3]\n",
      "[0, 1, 2, 3, 4]\n"
     ]
    }
   ],
   "source": [
    "# for append\n",
    "list_for = []\n",
    "print(list_for)\n",
    "for i in range(5):\n",
    "    list_for.append(i)\n",
    "    print(list_for)"
   ]
  },
  {
   "cell_type": "code",
   "execution_count": 93,
   "metadata": {},
   "outputs": [
    {
     "name": "stdout",
     "output_type": "stream",
     "text": [
      "[0, 1, 2, 3, 4]\n",
      "START\n",
      "[0, 1, 2, 3]\n",
      "[0, 1, 2]\n",
      "[0, 1]\n",
      "[0]\n",
      "[]\n"
     ]
    }
   ],
   "source": [
    "# for pop\n",
    "list_for = [0, 1, 2, 3, 4]\n",
    "print(list_for)\n",
    "\n",
    "print('START')\n",
    "for i in range(len(list_for)):\n",
    "    list_for.pop()\n",
    "    print(list_for)"
   ]
  },
  {
   "cell_type": "code",
   "execution_count": 103,
   "metadata": {},
   "outputs": [
    {
     "name": "stdout",
     "output_type": "stream",
     "text": [
      "[0, 1]\n",
      "[0]\n"
     ]
    }
   ],
   "source": [
    "# for pop\n",
    "list_for = [0,1,2]\n",
    "#print(list_for)\n",
    "\n",
    "for i in enumerate(list_for):\n",
    "    \n",
    "    list_for.pop()\n",
    "    print(list_for)\n",
    "    "
   ]
  },
  {
   "cell_type": "code",
   "execution_count": 104,
   "metadata": {},
   "outputs": [
    {
     "name": "stdout",
     "output_type": "stream",
     "text": [
      "0\n",
      "Null (1)\n",
      "2\n",
      "Null (1)\n",
      "4\n",
      "Null (1)\n",
      "6\n",
      "Null (1)\n",
      "8\n",
      "Null (1)\n"
     ]
    }
   ],
   "source": [
    "# for if\n",
    "for i in range(10):\n",
    "    if i%2==0:\n",
    "        print(i)\n",
    "    else:\n",
    "        print('Null ({})'.format(i%2))"
   ]
  },
  {
   "cell_type": "code",
   "execution_count": null,
   "metadata": {},
   "outputs": [],
   "source": [
    "# while =========================================="
   ]
  },
  {
   "cell_type": "code",
   "execution_count": 117,
   "metadata": {},
   "outputs": [
    {
     "name": "stdout",
     "output_type": "stream",
     "text": [
      "4\n",
      "3\n",
      "2\n",
      "1\n",
      "0\n"
     ]
    }
   ],
   "source": [
    "# while\n",
    "\n",
    "i = 4\n",
    "while i >= 0:\n",
    "    print(i)\n",
    "    i -= 1 #  i = i-1 必要！\n",
    "\n",
    "    \n"
   ]
  },
  {
   "cell_type": "code",
   "execution_count": 111,
   "metadata": {},
   "outputs": [],
   "source": [
    "# function ========================================="
   ]
  },
  {
   "cell_type": "code",
   "execution_count": 120,
   "metadata": {},
   "outputs": [
    {
     "name": "stdout",
     "output_type": "stream",
     "text": [
      "こんにちは。私は関数A。\n"
     ]
    },
    {
     "ename": "TypeError",
     "evalue": "function_A() takes 0 positional arguments but 1 was given",
     "output_type": "error",
     "traceback": [
      "\u001b[0;31m---------------------------------------------------------------------------\u001b[0m",
      "\u001b[0;31mTypeError\u001b[0m                                 Traceback (most recent call last)",
      "\u001b[0;32m<ipython-input-120-b9beeb413285>\u001b[0m in \u001b[0;36m<module>\u001b[0;34m\u001b[0m\n\u001b[1;32m      7\u001b[0m \u001b[0;34m\u001b[0m\u001b[0m\n\u001b[1;32m      8\u001b[0m \u001b[0;34m\u001b[0m\u001b[0m\n\u001b[0;32m----> 9\u001b[0;31m \u001b[0mfunction_A\u001b[0m\u001b[0;34m(\u001b[0m\u001b[0;34m'hi'\u001b[0m\u001b[0;34m)\u001b[0m\u001b[0;34m\u001b[0m\u001b[0;34m\u001b[0m\u001b[0m\n\u001b[0m",
      "\u001b[0;31mTypeError\u001b[0m: function_A() takes 0 positional arguments but 1 was given"
     ]
    }
   ],
   "source": [
    "# parameterがない　function\n",
    "\n",
    "def function_A():\n",
    "    print('こんにちは。私は関数A。')\n",
    "\n",
    "function_A()\n"
   ]
  },
  {
   "cell_type": "code",
   "execution_count": 124,
   "metadata": {},
   "outputs": [
    {
     "name": "stdout",
     "output_type": "stream",
     "text": [
      "hi\n"
     ]
    }
   ],
   "source": [
    "# parameterがある　function  print 1\n",
    "\n",
    "def function_B(x):\n",
    "    print(x)\n",
    "\n",
    "p1 = 'hi'\n",
    "\n",
    "function_B(p1)\n"
   ]
  },
  {
   "cell_type": "code",
   "execution_count": 145,
   "metadata": {},
   "outputs": [
    {
     "name": "stdout",
     "output_type": "stream",
     "text": [
      "7\n",
      "4\n"
     ]
    }
   ],
   "source": [
    "# parameterがある　function  print 2\n",
    "\n",
    "\n",
    "def function_C(parameter):\n",
    "    parameter = parameter + 3\n",
    "    print(parameter)\n",
    "\n",
    "x = 4\n",
    "function_C(x)\n",
    "print(x)"
   ]
  },
  {
   "cell_type": "code",
   "execution_count": 155,
   "metadata": {},
   "outputs": [
    {
     "name": "stdout",
     "output_type": "stream",
     "text": [
      "6\n"
     ]
    }
   ],
   "source": [
    "# parameterがある　function  return 1\n",
    "def function_D(parameter):\n",
    "    result = parameter + 3\n",
    "    return result , result + 3\n",
    "\n",
    "\n",
    "x,_ = function_D(3)\n",
    "\n",
    "print(x)\n"
   ]
  },
  {
   "cell_type": "code",
   "execution_count": 153,
   "metadata": {},
   "outputs": [],
   "source": [
    "# import=========================================="
   ]
  },
  {
   "cell_type": "code",
   "execution_count": 157,
   "metadata": {},
   "outputs": [
    {
     "name": "stdout",
     "output_type": "stream",
     "text": [
      "factorial(5) = 120\n",
      "exp(5) = 148.4131591025766\n",
      "log(5) = 1.6094379124341003\n",
      "sin(5) = -0.9589242746631385\n",
      "cos(5) = 0.2836621854632263\n",
      "tan(5) = -3.380515006246585\n",
      "pi = 3.141592653589793\n",
      "e = 2.718281828459045\n"
     ]
    }
   ],
   "source": [
    "# math pg53\n",
    "import math\n",
    "\n",
    "\n",
    "\n",
    "\n",
    "math1 = math.factorial(5)\n",
    "print('factorial(5) = {}'.format(math1))\n",
    "math2 = math.exp(5)\n",
    "print('exp(5) = {}'.format(math2))\n",
    "math3 = math.log(5)\n",
    "print('log(5) = {}'.format(math3))\n",
    "math4 = math.sin(5)\n",
    "print('sin(5) = {}'.format(math4))\n",
    "math5 = math.cos(5)\n",
    "print('cos(5) = {}'.format(math5))\n",
    "math6 = math.tan(5)\n",
    "print('tan(5) = {}'.format(math6))\n",
    "math7 = math.pi\n",
    "print('pi = {}'.format(math7))\n",
    "math7 = math.e\n",
    "print('e = {}'.format(math7))\n"
   ]
  },
  {
   "cell_type": "code",
   "execution_count": 203,
   "metadata": {},
   "outputs": [
    {
     "name": "stdout",
     "output_type": "stream",
     "text": [
      "3\n"
     ]
    }
   ],
   "source": [
    "# random pg 54\n",
    "import random\n",
    "\n",
    "\n",
    "\n",
    "\n",
    "random1 = random.random()\n",
    "print(random1)\n",
    "\n",
    "random2 = random.uniform(0,5)\n",
    "print(random2)\n",
    "\n",
    "random3 = random.randint(0,5)\n",
    "print(random3)\n",
    "\n",
    "\n",
    "\n",
    "\n"
   ]
  },
  {
   "cell_type": "code",
   "execution_count": 176,
   "metadata": {},
   "outputs": [],
   "source": [
    "# read write file .txt .csv =========================================="
   ]
  },
  {
   "cell_type": "code",
   "execution_count": 208,
   "metadata": {},
   "outputs": [
    {
     "name": "stdout",
     "output_type": "stream",
     "text": [
      "aaaa\n",
      "\n",
      "bbbb\n",
      "\n",
      "cccc\n",
      "\n",
      "dddd\n",
      "\n"
     ]
    }
   ],
   "source": [
    "# read file .txt pg 79\n",
    "f = open('read_file.txt','r',encoding='UTF-8')\n",
    "\n",
    "l = f.readline()\n",
    "\n",
    "while l:\n",
    "    print(l)\n",
    "    l = f.readline()\n",
    "\n",
    "f.close()\n",
    "\n"
   ]
  },
  {
   "cell_type": "code",
   "execution_count": 212,
   "metadata": {},
   "outputs": [],
   "source": [
    "# write file .txt pg 82\n",
    "f = open('write_file.txt','w',encoding='UTF-8')\n",
    "\n",
    "for i in range(10):\n",
    "    f.write(  'LINE' +str(i)+'\\n'  )\n",
    "\n",
    "f.close()"
   ]
  },
  {
   "cell_type": "code",
   "execution_count": 221,
   "metadata": {},
   "outputs": [
    {
     "name": "stdout",
     "output_type": "stream",
     "text": [
      "['a', '00', '01', '02', '03']\n",
      "['b', '00', '01', '02', '03']\n",
      "['c', '00', '01', '02', '03']\n",
      "['d', '00', '01', '02', '03']\n"
     ]
    }
   ],
   "source": [
    "# read file .csv pg 82\n",
    "rows = []\n",
    "\n",
    "\n",
    "f = open('read_file.csv','r',encoding='UTF-8')\n",
    "l = f.readline()\n",
    "\n",
    "while l:\n",
    "    fixed_l = l.rstrip()\n",
    "    #print(fixed_l)\n",
    "    rows.append(fixed_l.split(','))\n",
    "    #print(fixed_l.split(','))\n",
    "    l = f.readline()\n",
    "\n",
    "for element in rows:\n",
    "    print(element)\n"
   ]
  },
  {
   "cell_type": "code",
   "execution_count": 223,
   "metadata": {},
   "outputs": [],
   "source": [
    "\n",
    "\n",
    "# write file .csv pg 83\n",
    "f = open('write_file.csv','w',encoding='UTF-8')\n",
    "for i in range(10):\n",
    "    f.write(str(i)+','+str(i**2)+','+str(i**3)+'\\n')\n",
    "f.close()"
   ]
  },
  {
   "cell_type": "code",
   "execution_count": null,
   "metadata": {},
   "outputs": [],
   "source": [
    "# numpy =========================================="
   ]
  },
  {
   "cell_type": "code",
   "execution_count": 242,
   "metadata": {},
   "outputs": [
    {
     "ename": "AttributeError",
     "evalue": "'list' object has no attribute 'shape'",
     "output_type": "error",
     "traceback": [
      "\u001b[0;31m---------------------------------------------------------------------------\u001b[0m",
      "\u001b[0;31mAttributeError\u001b[0m                            Traceback (most recent call last)",
      "\u001b[0;32m<ipython-input-242-fa2a4fefb315>\u001b[0m in \u001b[0;36m<module>\u001b[0;34m\u001b[0m\n\u001b[1;32m      7\u001b[0m \u001b[0;31m#print(len(list_A))\u001b[0m\u001b[0;34m\u001b[0m\u001b[0;34m\u001b[0m\u001b[0;34m\u001b[0m\u001b[0m\n\u001b[1;32m      8\u001b[0m \u001b[0;34m\u001b[0m\u001b[0m\n\u001b[0;32m----> 9\u001b[0;31m \u001b[0mprint\u001b[0m\u001b[0;34m(\u001b[0m\u001b[0mlist_A\u001b[0m\u001b[0;34m.\u001b[0m\u001b[0mshape\u001b[0m\u001b[0;34m)\u001b[0m\u001b[0;34m\u001b[0m\u001b[0;34m\u001b[0m\u001b[0m\n\u001b[0m",
      "\u001b[0;31mAttributeError\u001b[0m: 'list' object has no attribute 'shape'"
     ]
    }
   ],
   "source": [
    "import numpy as np\n",
    "\n",
    "# list\n",
    "\n",
    "list_A = [[0,1,2],[0,1,2]]\n",
    "\n",
    "#print(len(list_A))\n",
    "\n",
    "#print(list_A.shape)"
   ]
  },
  {
   "cell_type": "code",
   "execution_count": 245,
   "metadata": {},
   "outputs": [
    {
     "name": "stdout",
     "output_type": "stream",
     "text": [
      "[0 1 2]\n",
      "(3,)\n"
     ]
    }
   ],
   "source": [
    "# numpy array 1-d\n",
    "\n",
    "import numpy as np\n",
    "\n",
    "list_A = [0,1,2]\n",
    "\n",
    "array_A = np.array(list_A)\n",
    "\n",
    "\n",
    "print(array_A)\n",
    "\n",
    "print(array_A.shape)"
   ]
  },
  {
   "cell_type": "code",
   "execution_count": 253,
   "metadata": {},
   "outputs": [
    {
     "name": "stdout",
     "output_type": "stream",
     "text": [
      "[[0 1 2]\n",
      " [3 4 5]\n",
      " [6 7 8]]\n",
      "(3, 3)\n",
      "[0 1 2]\n",
      "1\n"
     ]
    }
   ],
   "source": [
    "# numpy array n-d = matrix\n",
    "import numpy as np\n",
    "\n",
    "list_A = [0,1,2]\n",
    "list_B = [3,4,5]\n",
    "list_C = [6,7,8]\n",
    "\n",
    "array_B = np.array(  [  list_A,  list_B,  list_C   ])\n",
    "print(array_B)\n",
    "print(array_B.shape)\n",
    "\n",
    "print(array_B[0])\n",
    "\n",
    "print(array_B[0,1]) # = print(array_B[0][1])\n"
   ]
  },
  {
   "cell_type": "code",
   "execution_count": 251,
   "metadata": {},
   "outputs": [],
   "source": [
    "# 行列乗算 matrix multiplication==========================="
   ]
  },
  {
   "attachments": {
    "matrix-multiplication5.jpg": {
     "image/jpeg": "[encoded data removed]"
    }
   },
   "cell_type": "markdown",
   "metadata": {},
   "source": [
    "![matrix-multiplication5.jpg](attachment:matrix-multiplication5.jpg)\n",
    "from https://www.mathbootcamps.com/multiplying-matrices/"
   ]
  },
  {
   "cell_type": "code",
   "execution_count": 256,
   "metadata": {},
   "outputs": [
    {
     "name": "stdout",
     "output_type": "stream",
     "text": [
      "matrixA:\n",
      "[[-1  4]\n",
      " [ 2  3]]\n",
      "matrixB:\n",
      "[[ 9 -3]\n",
      " [ 6  1]]\n"
     ]
    }
   ],
   "source": [
    "# 行列乗算\n",
    "import numpy as np\n",
    "martixA = np.array([[-1,4],[2,3]])\n",
    "\n",
    "martixB = np.array([[9,-3],[6,1]])\n",
    "print('matrixA:')\n",
    "print(martixA)\n",
    "print('matrixB:')\n",
    "print(martixB)"
   ]
  },
  {
   "cell_type": "code",
   "execution_count": 260,
   "metadata": {},
   "outputs": [
    {
     "name": "stdout",
     "output_type": "stream",
     "text": [
      "matrixC\n",
      "[[15  7]\n",
      " [36 -3]]\n"
     ]
    }
   ],
   "source": [
    "# 行列乗算\n",
    "import numpy as np\n",
    "\n",
    "matrixC = np.dot(martixA,martixB) # 行列乗算\n",
    "\n",
    "print('matrixC')\n",
    "print(matrixC)\n",
    "\n"
   ]
  },
  {
   "cell_type": "code",
   "execution_count": null,
   "metadata": {},
   "outputs": [],
   "source": [
    "# 逆行列 inverse matrix ==========================="
   ]
  },
  {
   "attachments": {
    "high-school-algebra-ii-how-to-solve-inverse-matrices_127662.jpg": {
     "image/jpeg": "[encoded data removed]"
    }
   },
   "cell_type": "markdown",
   "metadata": {},
   "source": [
    "![high-school-algebra-ii-how-to-solve-inverse-matrices_127662.jpg](attachment:high-school-algebra-ii-how-to-solve-inverse-matrices_127662.jpg)\n",
    "from https://study.com/academy/lesson/how-to-solve-inverse-matrices.html"
   ]
  },
  {
   "cell_type": "code",
   "execution_count": 263,
   "metadata": {},
   "outputs": [
    {
     "name": "stdout",
     "output_type": "stream",
     "text": [
      "martixA\n",
      "[[-1  4]\n",
      " [ 2  3]]\n",
      "inverse martixA\n",
      "[[-0.27272727  0.36363636]\n",
      " [ 0.18181818  0.09090909]]\n",
      "proof\n",
      "[[1. 0.]\n",
      " [0. 1.]]\n"
     ]
    }
   ],
   "source": [
    "# 逆行列\n",
    "import numpy as np\n",
    "martixA = np.array([[-1,4],[2,3]])\n",
    "print('martixA')\n",
    "print(martixA)\n",
    "\n",
    "print('inverse martixA')\n",
    "print(np.linalg.inv(martixA)) # 逆行列\n",
    "\n",
    "print('proof')\n",
    "print(np.dot(martixA,np.linalg.inv(martixA)))\n",
    "\n"
   ]
  },
  {
   "cell_type": "code",
   "execution_count": null,
   "metadata": {},
   "outputs": [],
   "source": [
    "# ガウス法の手順 Gauss Elimination======================"
   ]
  },
  {
   "attachments": {
    "Screen%20Shot%202020-03-03%20at%2015.27.48.png": {
     "image/png": "[encoded data removed]"
    }
   },
   "cell_type": "markdown",
   "metadata": {},
   "source": [
    "![Screen%20Shot%202020-03-03%20at%2015.27.48.png](attachment:Screen%20Shot%202020-03-03%20at%2015.27.48.png)"
   ]
  },
  {
   "cell_type": "code",
   "execution_count": 277,
   "metadata": {},
   "outputs": [
    {
     "name": "stdout",
     "output_type": "stream",
     "text": [
      "martixA\n",
      "[[ 2 -1  1]\n",
      " [-1  4 -2]\n",
      " [ 1 -2  3]]\n",
      "vectorB\n",
      "[[ 6]\n",
      " [-4]\n",
      " [ 9]]\n",
      "vectorA - Answer \n",
      "[[2.]\n",
      " [1.]\n",
      " [3.]]\n"
     ]
    }
   ],
   "source": [
    "# ガウス法の手順\n",
    "# matrixA x vectorA = vectorB\n",
    "import numpy as np\n",
    "martixA = np.array([[2,-1,1],[-1,4,-2],[1,-2,3]])\n",
    "print('martixA')\n",
    "print(martixA)\n",
    "\n",
    "vectorB = np.array([[6],[-4],[9]])\n",
    "\n",
    "\n",
    "print('vectorB')\n",
    "print(vectorB)\n",
    "\n",
    "vectorA = np.linalg.solve(martixA,vectorB)\n",
    "\n",
    "print('vectorA - Answer ')\n",
    "print(vectorA)\n",
    "\n",
    "\n"
   ]
  },
  {
   "cell_type": "code",
   "execution_count": null,
   "metadata": {},
   "outputs": [],
   "source": [
    "# 転置行列 Transpose matrix ======================"
   ]
  },
  {
   "attachments": {
    "Screen-Shot-2015-09-17-at-5.51.20-PM.png": {
     "image/png": "[encoded data removed]"
    }
   },
   "cell_type": "markdown",
   "metadata": {},
   "source": [
    "![Screen-Shot-2015-09-17-at-5.51.20-PM.png](attachment:Screen-Shot-2015-09-17-at-5.51.20-PM.png)\n",
    "from https://www.examiron.com/matrix-transpose/screen-shot-2015-09-17-at-5-51-20-pm/"
   ]
  },
  {
   "cell_type": "code",
   "execution_count": 284,
   "metadata": {},
   "outputs": [
    {
     "name": "stdout",
     "output_type": "stream",
     "text": [
      "martixA\n",
      "[[0 1 2]\n",
      " [3 4 5]\n",
      " [6 7 8]]\n",
      "martixA Transpose\n",
      "[[0 3 6]\n",
      " [1 4 7]\n",
      " [2 5 8]]\n"
     ]
    }
   ],
   "source": [
    "import numpy as np\n",
    "martixA = np.array([[0,1,2],[3,4,5],[6,7,8]])\n",
    "print('martixA')\n",
    "print(martixA)\n",
    "\n",
    "martixA_transpose = martixA.transpose()\n",
    "#martixA_transpose = martixA.T\n",
    "#martixA_transpose = np.transpose(martixA)\n",
    "\n",
    "print('martixA Transpose')\n",
    "print(martixA_transpose)\n"
   ]
  },
  {
   "cell_type": "code",
   "execution_count": null,
   "metadata": {},
   "outputs": [],
   "source": [
    "# 行列式  matrix determinant==================="
   ]
  },
  {
   "attachments": {
    "1*-ycNEMicMOIR8WvzcBzERA@2x.jpeg": {
     "image/jpeg": "[encoded data removed]"
    }
   },
   "cell_type": "markdown",
   "metadata": {},
   "source": [
    "![1*-ycNEMicMOIR8WvzcBzERA@2x.jpeg](attachment:1*-ycNEMicMOIR8WvzcBzERA@2x.jpeg)\n",
    "from https://medium.com/sho-jp/linear-algebra-101-part-5-determinants-b54f990782cc"
   ]
  },
  {
   "cell_type": "code",
   "execution_count": 286,
   "metadata": {},
   "outputs": [
    {
     "name": "stdout",
     "output_type": "stream",
     "text": [
      "martixA\n",
      "[[1 2]\n",
      " [3 4]]\n",
      "-2.0000000000000004\n"
     ]
    }
   ],
   "source": [
    "import numpy as np\n",
    "martixA = np.array([[1,2],[3,4]])\n",
    "print('martixA')\n",
    "print(martixA)\n",
    "\n",
    "\n",
    "det_A = np.linalg.det(martixA)\n",
    "\n",
    "print(det_A)"
   ]
  },
  {
   "cell_type": "code",
   "execution_count": null,
   "metadata": {},
   "outputs": [],
   "source": [
    "# クラス class ==========================="
   ]
  },
  {
   "cell_type": "code",
   "execution_count": null,
   "metadata": {},
   "outputs": [],
   "source": [
    "# python クラス class ==========================="
   ]
  },
  {
   "cell_type": "code",
   "execution_count": 1,
   "metadata": {},
   "outputs": [
    {
     "name": "stdout",
     "output_type": "stream",
     "text": [
      "こんにちは。\n",
      "<class 'str'>\n"
     ]
    }
   ],
   "source": [
    "# string\n",
    "string_A = 'こんにちは。'\n",
    "print(string_A)\n",
    "print(type(string_A))"
   ]
  },
  {
   "cell_type": "code",
   "execution_count": 2,
   "metadata": {},
   "outputs": [
    {
     "name": "stdout",
     "output_type": "stream",
     "text": [
      "6\n",
      "<class 'int'>\n"
     ]
    }
   ],
   "source": [
    "# int 3\n",
    "int_C = round(5.6)\n",
    "print(int_C)\n",
    "print(type(int_C))"
   ]
  },
  {
   "cell_type": "code",
   "execution_count": 3,
   "metadata": {},
   "outputs": [
    {
     "name": "stdout",
     "output_type": "stream",
     "text": [
      "5.0\n",
      "<class 'float'>\n"
     ]
    }
   ],
   "source": [
    "# float 1\n",
    "float_A = 5.0\n",
    "print(float_A)\n",
    "print(type(float_A))"
   ]
  },
  {
   "cell_type": "code",
   "execution_count": 5,
   "metadata": {},
   "outputs": [
    {
     "name": "stdout",
     "output_type": "stream",
     "text": [
      "['あ', 'い', 'う', 'え', 'お']\n",
      "<class 'list'>\n"
     ]
    }
   ],
   "source": [
    "# list\n",
    "list_B = ['あ','い','う','え','お']\n",
    "print(list_B)\n",
    "print(type(list_B))"
   ]
  },
  {
   "cell_type": "code",
   "execution_count": null,
   "metadata": {},
   "outputs": [],
   "source": [
    "# 自分 クラス class ==========================="
   ]
  },
  {
   "cell_type": "code",
   "execution_count": 289,
   "metadata": {},
   "outputs": [
    {
     "name": "stdout",
     "output_type": "stream",
     "text": [
      "my repr ------------\n",
      "<__main__.MyClass1 object at 0x1100f1240>\n",
      "my name ------------\n",
      "自分 クラス\n",
      "my int ------------\n",
      "5\n",
      "my float ------------\n",
      "6.4\n",
      "my list ------------\n",
      "[0, 1, 2, 3]\n"
     ]
    }
   ],
   "source": [
    "class MyClass1():\n",
    "    def __init__(self):\n",
    "        self.name = '自分 クラス'\n",
    "        self.int = 5\n",
    "        self.float = 6.4\n",
    "        self.list = [0,1,2,3]\n",
    "    \n",
    "    \n",
    "\n",
    "x = MyClass1()\n",
    "\n",
    "\n",
    "\n",
    "print('my repr ------------')\n",
    "print(x)\n",
    "print('my name ------------')\n",
    "print(x.name)\n",
    "\n",
    "\n",
    "\n",
    "print('my int ------------')\n",
    "print(x.int)\n",
    "print('my float ------------')\n",
    "print(x.float)\n",
    "print('my list ------------')\n",
    "print(x.list)"
   ]
  },
  {
   "cell_type": "code",
   "execution_count": 291,
   "metadata": {},
   "outputs": [
    {
     "name": "stdout",
     "output_type": "stream",
     "text": [
      "これはmyfunction_1\n"
     ]
    }
   ],
   "source": [
    "class MyClass2():\n",
    "    def __init__(self):\n",
    "        self.name = '自分 クラス'\n",
    "        self.int = 5\n",
    "        self.float = 6.4\n",
    "        self.list = [0,1,2,3]\n",
    "        \n",
    "    def myfunction_1(self):\n",
    "        print('これはmyfunction_1')\n",
    "\n",
    "x = MyClass2()\n",
    "x.myfunction_1()\n",
    "\n"
   ]
  },
  {
   "cell_type": "code",
   "execution_count": 294,
   "metadata": {},
   "outputs": [
    {
     "name": "stdout",
     "output_type": "stream",
     "text": [
      "[0, 3]\n",
      "[0, 4]\n",
      "0\n",
      "------------\n",
      "5.0\n"
     ]
    }
   ],
   "source": [
    "class MyClass3():\n",
    "    def __init__(self,x_coord1,x_coord2,y_coord1,y_coord2):\n",
    "        self.name = '自分 クラス'\n",
    "        self.x = [x_coord1,x_coord2]\n",
    "        self.y = [y_coord1,y_coord2]\n",
    "        self.distance = 0\n",
    "        \n",
    "        \n",
    "    def cal_distance(self):\n",
    "        dx = self.x[1] - self.x[0]\n",
    "        dy = self.y[1] - self.y[0]\n",
    "        \n",
    "        self.distance = ((dx**2) + (dy**2))**0.5\n",
    "        \n",
    "        \n",
    "\n",
    "x3 = MyClass3(0,3,0,4)\n",
    "print(x3.x)\n",
    "print(x3.y)\n",
    "print(x3.distance)\n",
    "print('------------')\n",
    "x3.cal_distance()\n",
    "print(x3.distance)\n"
   ]
  },
  {
   "cell_type": "code",
   "execution_count": 300,
   "metadata": {},
   "outputs": [
    {
     "name": "stdout",
     "output_type": "stream",
     "text": [
      "=========================================\n",
      "n2 load num ------------\n",
      "1\n",
      "n2 load val ------------\n",
      "[0, 0]\n",
      "=========================================\n",
      "e1 name ------------\n",
      "2D Truss\n",
      "e1 num ------------\n",
      "1\n",
      "e1 youngModulus ------------\n",
      "1\n",
      "e1 area ------------\n",
      "1\n",
      "e1 node ------------\n",
      "[<__main__.Node object at 0x1187d4550>, <__main__.Node object at 0x1187d43c8>]\n",
      "e1 node num ------------\n",
      "[0, 0]\n",
      "[3, 4]\n",
      "e1 length ------------\n",
      "5.0\n",
      "e1 k ------------\n",
      "[[0. 0. 0. 0.]\n",
      " [0. 0. 0. 0.]\n",
      " [0. 0. 0. 0.]\n",
      " [0. 0. 0. 0.]]\n"
     ]
    }
   ],
   "source": [
    "import numpy as np\n",
    "class Load():\n",
    "    def __init__(self,num,x_val,y_val):\n",
    "        self.name = 'Load'\n",
    "        self.num = num\n",
    "        self.val = [x_val,y_val]\n",
    "        \n",
    "class Node():\n",
    "    def __init__(self,num,x_coord,y_coord):\n",
    "        self.name = 'Node'\n",
    "        self.num = num\n",
    "        self.coord = [x_coord,y_coord]\n",
    "        self.loads = []\n",
    "    def add_load(self,l):\n",
    "        self.loads.append(l)\n",
    "        \n",
    "\n",
    "\n",
    "\n",
    "class Element():\n",
    "    def __init__(self,num,young,area):\n",
    "        self.name = '2D Truss'\n",
    "        self.num = num\n",
    "        self.youngModulus = young\n",
    "        self.area = area\n",
    "        self.node = []\n",
    "        self.length = 0\n",
    "        self.k = np.zeros((4,4,))\n",
    "    def add_node(self,n1,n2):\n",
    "        self.node.append(n1)\n",
    "        self.node.append(n2)\n",
    "    def cal_length(self):\n",
    "        x1 = self.node[0].coord[0]\n",
    "        y1 = self.node[0].coord[1]\n",
    "        x2 = self.node[1].coord[0]\n",
    "        y2 = self.node[1].coord[1]\n",
    "        dx = x2-x1\n",
    "        dy = y2-y1\n",
    "        self.length = ((dx**2) + (dy**2))**0.5\n",
    "        \n",
    "    def stiffness(self):\n",
    "        '''\n",
    "        剛性マトリックス \n",
    "        '''\n",
    "        self.k = self.k\n",
    "        \n",
    "\n",
    "    \n",
    "        \n",
    "l1 = Load(1,0,0)\n",
    "        \n",
    "n1 = Node(1,0,0)\n",
    "n2 = Node(2,3,4)\n",
    "n2.add_load(l1)\n",
    "print('=========================================')\n",
    "print('n2 load num ------------')\n",
    "print(n2.loads[0].num)\n",
    "print('n2 load val ------------')\n",
    "print(n2.loads[0].val)\n",
    "\n",
    "e1 = Element(1,1,1)\n",
    "e1.add_node(n1,n2)\n",
    "e1.cal_length()\n",
    "print('=========================================')\n",
    "print('e1 name ------------')\n",
    "print(e1.name)\n",
    "print('e1 num ------------')\n",
    "print(e1.num)\n",
    "print('e1 youngModulus ------------')\n",
    "print(e1.youngModulus)\n",
    "print('e1 area ------------')\n",
    "print(e1.area)\n",
    "print('e1 node ------------')\n",
    "print(e1.node)\n",
    "print('e1 node num ------------')\n",
    "for i in range(len(e1.node)):\n",
    "    print(e1.node[i].coord)\n",
    "print(e1.node[0].coord)\n",
    "print(e1.node[1].coord)\n",
    "print('e1 length ------------')\n",
    "print(e1.length)\n",
    "print('e1 k ------------')\n",
    "print(e1.k)"
   ]
  },
  {
   "cell_type": "code",
   "execution_count": null,
   "metadata": {},
   "outputs": [],
   "source": []
  },
  {
   "cell_type": "code",
   "execution_count": null,
   "metadata": {},
   "outputs": [],
   "source": []
  }
 ],
 "metadata": {
  "kernelspec": {
   "display_name": "Python 3",
   "language": "python",
   "name": "python3"
  },
  "language_info": {
   "codemirror_mode": {
    "name": "ipython",
    "version": 3
   },
   "file_extension": ".py",
   "mimetype": "text/x-python",
   "name": "python",
   "nbconvert_exporter": "python",
   "pygments_lexer": "ipython3",
   "version": "3.7.3"
  }
 },
 "nbformat": 4,
 "nbformat_minor": 2
}
